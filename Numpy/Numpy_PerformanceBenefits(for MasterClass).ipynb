{
 "cells": [
  {
   "cell_type": "markdown",
   "id": "db174f7a",
   "metadata": {},
   "source": [
    "# NumPy: Test whether numpy array is faster than Python list or not"
   ]
  },
  {
   "cell_type": "code",
   "execution_count": 2,
   "id": "ed52c82b",
   "metadata": {},
   "outputs": [
    {
     "name": "stdout",
     "output_type": "stream",
     "text": [
      "Time to aggregates elements from each of the iterables:\n",
      "List:\n",
      "278.3703804016113\n",
      "NumPy array:\n",
      "78.08756828308105\n"
     ]
    }
   ],
   "source": [
    "import time\n",
    "import numpy as np \n",
    "SIZE = 2000000 # 2 million records in a list/array)\n",
    "list1 = range(SIZE)\n",
    "list2 = range(SIZE)\n",
    "arra1 = np.arange(SIZE)\n",
    "arra2 = np.arange(SIZE)\n",
    "start_list = time.time()\n",
    "result=[(x,y) for x,y in zip(list1,list2)]\n",
    "print(\"Time to aggregates elements from each of the iterables:\")\n",
    "print(\"List:\")\n",
    "print((time.time()-start_list)*1000)\n",
    "start_array = time.time()\n",
    "result = arra1 + arra2\n",
    "print(\"NumPy array:\")\n",
    "print((time.time()-start_array)*1000)"
   ]
  },
  {
   "cell_type": "markdown",
   "id": "ad8b38dd",
   "metadata": {},
   "source": [
    "# NumPy: Test whether numpy array take less memory than python list"
   ]
  },
  {
   "cell_type": "code",
   "execution_count": 12,
   "id": "2905b54b",
   "metadata": {},
   "outputs": [
    {
     "name": "stdout",
     "output_type": "stream",
     "text": [
      "1 - Memory used by Python List - 856\n",
      "2 - Memory usage of np array using itemsize  - 400\n"
     ]
    }
   ],
   "source": [
    "import sys\n",
    "\n",
    "mylist = list(range(100))\n",
    "print(f'1 - Memory used by Python List - {sys.getsizeof(mylist)}')\n",
    "      \n",
    "narray = np.array(list(range(100)))\n",
    "size = narray.size * narray.itemsize\n",
    "print(f'2 - Memory usage of np array using itemsize  - {size}')"
   ]
  },
  {
   "cell_type": "code",
   "execution_count": null,
   "id": "15578efd",
   "metadata": {},
   "outputs": [],
   "source": []
  }
 ],
 "metadata": {
  "kernelspec": {
   "display_name": "Python 3",
   "language": "python",
   "name": "python3"
  },
  "language_info": {
   "codemirror_mode": {
    "name": "ipython",
    "version": 3
   },
   "file_extension": ".py",
   "mimetype": "text/x-python",
   "name": "python",
   "nbconvert_exporter": "python",
   "pygments_lexer": "ipython3",
   "version": "3.8.8"
  }
 },
 "nbformat": 4,
 "nbformat_minor": 5
}
